{
 "cells": [
  {
   "cell_type": "markdown",
   "id": "d06de9fc",
   "metadata": {},
   "source": [
    "\n",
    "# Diabetes Dataset Analysis\n",
    "\n",
    "This notebook analyzes the diabetes dataset using various data visualization techniques and machine learning models.\n"
   ]
  },
  {
   "cell_type": "code",
   "execution_count": null,
   "id": "34176c92",
   "metadata": {},
   "outputs": [],
   "source": [
    "\n",
    "import pandas as pd\n",
    "import numpy as np\n",
    "import seaborn as sns\n",
    "import matplotlib.pyplot as plt\n",
    "from sklearn.model_selection import train_test_split, GridSearchCV\n",
    "from sklearn.ensemble import RandomForestClassifier\n",
    "from sklearn.metrics import classification_report, accuracy_score, confusion_matrix, roc_curve, auc\n",
    "\n",
    "# Load the dataset\n",
    "df = pd.read_csv('/mnt/data/diabetes.csv')\n",
    "\n",
    "# Explore the data\n",
    "df.describe()\n"
   ]
  },
  {
   "cell_type": "markdown",
   "id": "87902d07",
   "metadata": {},
   "source": [
    "\n",
    "### Data Exploration\n",
    "\n",
    "The dataset contains information about diabetes patients. Let's explore the data to understand the distribution of features.\n"
   ]
  },
  {
   "cell_type": "code",
   "execution_count": null,
   "id": "bc8678bf",
   "metadata": {},
   "outputs": [],
   "source": [
    "\n",
    "# Plot the distribution of the target variable (Outcome)\n",
    "plt.figure(figsize=(6, 4))\n",
    "sns.countplot(df['Outcome'], palette='coolwarm'])\n",
    "plt.title('Distribution of Outcome Variable')\n",
    "plt.show()\n"
   ]
  },
  {
   "cell_type": "markdown",
   "id": "47ee9e43",
   "metadata": {},
   "source": [
    "\n",
    "The above plot shows the distribution of the `Outcome` variable, which indicates whether a patient has diabetes (`1`) or not (`0`).\n"
   ]
  },
  {
   "cell_type": "code",
   "execution_count": null,
   "id": "59c318cf",
   "metadata": {},
   "outputs": [],
   "source": [
    "\n",
    "# Plot the correlation matrix\n",
    "plt.figure(figsize=(10, 8))\n",
    "corr_matrix = df.corr()\n",
    "sns.heatmap(corr_matrix, annot=True, cmap='coolwarm', fmt='.2f')\n",
    "plt.title('Correlation Matrix')\n",
    "plt.show()\n"
   ]
  },
  {
   "cell_type": "markdown",
   "id": "a15ad0ef",
   "metadata": {},
   "source": [
    "\n",
    "The correlation matrix above shows the relationship between different features in the dataset. Higher absolute values indicate stronger correlations.\n"
   ]
  },
  {
   "cell_type": "markdown",
   "id": "ad4e144a",
   "metadata": {},
   "source": [
    "\n",
    "### Data Splitting\n",
    "\n",
    "Next, we will split the dataset into training and testing sets to evaluate the performance of our machine learning model.\n"
   ]
  },
  {
   "cell_type": "code",
   "execution_count": null,
   "id": "ce822e88",
   "metadata": {},
   "outputs": [],
   "source": [
    "\n",
    "# Split the data into features (X) and target (y)\n",
    "X = df.drop('Outcome', axis=1)\n",
    "y = df['Outcome']\n",
    "\n",
    "# Split the data into training and test sets (80% training, 20% testing)\n",
    "X_train, X_test, y_train, y_test = train_test_split(X, y, test_size=0.2, random_state=42)\n"
   ]
  },
  {
   "cell_type": "markdown",
   "id": "53e84bdd",
   "metadata": {},
   "source": [
    "\n",
    "### Model Training\n",
    "\n",
    "We will use a Random Forest classifier and apply GridSearchCV to find the best hyperparameters for our model.\n"
   ]
  },
  {
   "cell_type": "code",
   "execution_count": null,
   "id": "9a297408",
   "metadata": {},
   "outputs": [],
   "source": [
    "\n",
    "# Train the Random Forest model with GridSearchCV for hyperparameter tuning\n",
    "param_grid = {\n",
    "    'n_estimators': [50, 100, 200],\n",
    "    'max_depth': [None, 10, 20, 30],\n",
    "    'min_samples_split': [2, 5, 10]\n",
    "}\n",
    "rf_model = RandomForestClassifier(random_state=42)\n",
    "grid_search = GridSearchCV(rf_model, param_grid, cv=5, scoring='accuracy', n_jobs=-1)\n",
    "grid_search.fit(X_train, y_train)\n",
    "\n",
    "# Best parameters from GridSearch\n",
    "best_params = grid_search.best_params_\n",
    "print(f'Best Parameters: {best_params}')\n"
   ]
  },
  {
   "cell_type": "markdown",
   "id": "e19beb89",
   "metadata": {},
   "source": [
    "\n",
    "### Model Evaluation\n",
    "\n",
    "After training the model, we will evaluate its performance on the test data using accuracy, confusion matrix, and classification report.\n"
   ]
  },
  {
   "cell_type": "code",
   "execution_count": null,
   "id": "cc9793ec",
   "metadata": {},
   "outputs": [],
   "source": [
    "\n",
    "# Make predictions on the test set\n",
    "y_pred = grid_search.predict(X_test)\n",
    "\n",
    "# Evaluate the model\n",
    "accuracy = accuracy_score(y_test, y_pred)\n",
    "conf_matrix = confusion_matrix(y_test, y_pred)\n",
    "class_report = classification_report(y_test, y_pred)\n",
    "\n",
    "print(f'Accuracy: {accuracy}')\n",
    "print(f'Confusion Matrix:\\n{conf_matrix}')\n",
    "print(f'Classification Report:\\n{class_report}')\n"
   ]
  },
  {
   "cell_type": "markdown",
   "id": "c6141eb3",
   "metadata": {},
   "source": [
    "\n",
    "### ROC-AUC Curve\n",
    "\n",
    "The ROC-AUC curve is a graphical representation of the model's performance, illustrating the trade-off between true positive rate (sensitivity) and false positive rate (1-specificity).\n"
   ]
  },
  {
   "cell_type": "code",
   "execution_count": null,
   "id": "6541ed3b",
   "metadata": {},
   "outputs": [],
   "source": [
    "\n",
    "# Plot the ROC-AUC curve\n",
    "y_pred_prob = grid_search.predict_proba(X_test)[:, 1]\n",
    "fpr, tpr, _ = roc_curve(y_test, y_pred_prob)\n",
    "roc_auc = auc(fpr, tpr)\n",
    "\n",
    "plt.figure(figsize=(8, 6))\n",
    "plt.plot(fpr, tpr, color='darkorange', lw=2, label=f'ROC curve (area = {roc_auc:.2f})')\n",
    "plt.plot([0, 1], [0, 1], color='navy', lw=2, linestyle='--')\n",
    "plt.xlim([0.0, 1.0])\n",
    "plt.ylim([0.0, 1.05])\n",
    "plt.xlabel('False Positive Rate')\n",
    "plt.ylabel('True Positive Rate')\n",
    "plt.title('Receiver Operating Characteristic (ROC) Curve')\n",
    "plt.legend(loc='lower right')\n",
    "plt.show()\n"
   ]
  }
 ],
 "metadata": {},
 "nbformat": 4,
 "nbformat_minor": 5
}
